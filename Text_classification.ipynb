{
  "nbformat": 4,
  "nbformat_minor": 0,
  "metadata": {
    "colab": {
      "name": "Text_classification.ipynb",
      "provenance": [],
      "collapsed_sections": [],
      "toc_visible": true
    },
    "kernelspec": {
      "name": "python3",
      "display_name": "Python 3"
    }
  },
  "cells": [
    {
      "cell_type": "code",
      "metadata": {
        "id": "UzkTGf3dOiFF"
      },
      "source": [
        "import pandas as pd\n",
        "import numpy as np\n",
        "from sklearn.cluster import KMeans \n",
        "from sklearn.decomposition import LatentDirichletAllocation\n",
        "from sklearn import metrics \n",
        "from sklearn.feature_extraction.text import TfidfVectorizer\n",
        "from scipy.spatial.distance import cdist \n",
        "import numpy as np \n",
        "import matplotlib.pyplot as plt  \n",
        "from sklearn.metrics import silhouette_samples, silhouette_score\n",
        "from sklearn.model_selection import train_test_split"
      ],
      "execution_count": null,
      "outputs": []
    },
    {
      "cell_type": "code",
      "metadata": {
        "id": "sjOEHglNOrGq",
        "colab": {
          "base_uri": "https://localhost:8080/",
          "height": 33
        },
        "outputId": "b50fec4a-0876-4fbf-8dbc-9b226cad074c"
      },
      "source": [
        "from google.colab import drive\n",
        "drive.mount('/content/gdrive')\n",
        "df_entire = pd.read_csv('/content/gdrive/My Drive/clean_data.csv')\n",
        "df = df_entire[['text','topic']]"
      ],
      "execution_count": null,
      "outputs": [
        {
          "output_type": "stream",
          "text": [
            "Drive already mounted at /content/gdrive; to attempt to forcibly remount, call drive.mount(\"/content/gdrive\", force_remount=True).\n"
          ],
          "name": "stdout"
        }
      ]
    },
    {
      "cell_type": "code",
      "metadata": {
        "id": "ufPH46EmRIs4"
      },
      "source": [
        "# tf-idf vevctorization\n",
        "\n",
        "tfidf = TfidfVectorizer(min_df=0., max_df=1., use_idf=True)\n",
        "tfidf_fit = tfidf.fit(df['text'])\n",
        "tv_matrix = tfidf_fit.transform(df['text'])\n",
        "columns = tfidf.get_feature_names()"
      ],
      "execution_count": null,
      "outputs": []
    },
    {
      "cell_type": "code",
      "metadata": {
        "id": "Eq0q3zYnRdwN"
      },
      "source": [
        "# LDA topic modelling\n",
        "\n",
        "lda = LatentDirichletAllocation(n_components=10, random_state=0)\n",
        "lda_matrix = lda.fit_transform(tv_matrix)\n",
        "features = pd.DataFrame(lda_matrix)"
      ],
      "execution_count": null,
      "outputs": []
    },
    {
      "cell_type": "markdown",
      "metadata": {
        "id": "c6rE2CoVP2Nt"
      },
      "source": [
        "##Clustering"
      ]
    },
    {
      "cell_type": "code",
      "metadata": {
        "id": "PHpzJY80RkK8",
        "colab": {
          "base_uri": "https://localhost:8080/",
          "height": 295
        },
        "outputId": "7ce60632-17c1-4843-b64b-5e02d5f1db4f"
      },
      "source": [
        "# elbow method to find best n_clusters value\n",
        "distortions = [] \n",
        "inertias = [] \n",
        "mapping1 = {} \n",
        "mapping2 = {} \n",
        "K_range = range(1,25) \n",
        "  \n",
        "for k in K_range: \n",
        "    #Building and fitting the model \n",
        "    kmeanModel = KMeans(n_clusters=k).fit(features) \n",
        "    kmeanModel.fit(features)     \n",
        "      \n",
        "    distortions.append(sum(np.min(cdist(features, kmeanModel.cluster_centers_, 'euclidean'),axis=1)) / features.shape[0]) \n",
        "    inertias.append(kmeanModel.inertia_) \n",
        "  \n",
        "    mapping1[k] = sum(np.min(cdist(features, kmeanModel.cluster_centers_, \n",
        "                 'euclidean'),axis=1)) / features.shape[0] \n",
        "    mapping2[k] = kmeanModel.inertia_\n",
        "\n",
        "plt.plot(K_range, distortions, 'bx-') \n",
        "plt.xlabel('Values of K') \n",
        "plt.ylabel('Distortion') \n",
        "plt.title('The Elbow Method using Distortion') \n",
        "plt.show() "
      ],
      "execution_count": null,
      "outputs": [
        {
          "output_type": "display_data",
          "data": {
            "image/png": "[encoded data removed]",
            "text/plain": [
              "<Figure size 432x288 with 1 Axes>"
            ]
          },
          "metadata": {
            "tags": []
          }
        }
      ]
    },
    {
      "cell_type": "code",
      "metadata": {
        "id": "H4F7Pk6wRtS1",
        "colab": {
          "base_uri": "https://localhost:8080/",
          "height": 117
        },
        "outputId": "82af5433-df9e-45e1-d9b4-0ac0fc3dda5a"
      },
      "source": [
        "# kmeans\n",
        "\n",
        "from sklearn.cluster import KMeans\n",
        "kmeans = KMeans(n_clusters=4).fit(features)\n",
        "pred = kmeans.predict(features)\n",
        "df['clusterId'] = pred\n"
      ],
      "execution_count": null,
      "outputs": [
        {
          "output_type": "stream",
          "text": [
            "/usr/local/lib/python3.6/dist-packages/ipykernel_launcher.py:5: SettingWithCopyWarning: \n",
            "A value is trying to be set on a copy of a slice from a DataFrame.\n",
            "Try using .loc[row_indexer,col_indexer] = value instead\n",
            "\n",
            "See the caveats in the documentation: http://pandas.pydata.org/pandas-docs/stable/user_guide/indexing.html#returning-a-view-versus-a-copy\n",
            "  \"\"\"\n"
          ],
          "name": "stderr"
        }
      ]
    },
    {
      "cell_type": "code",
      "metadata": {
        "id": "R6mbvE8Upm0R",
        "colab": {
          "base_uri": "https://localhost:8080/",
          "height": 100
        },
        "outputId": "d8296d7a-75af-4dca-c54d-2cb9adc51879"
      },
      "source": [
        "# checking best number of clusters using silhoutte score\n",
        "from sklearn.cluster import KMeans\n",
        "from sklearn.metrics import silhouette_samples, silhouette_score\n",
        "cluster_values = [3,4,5,6,7]\n",
        "for cluster in cluster_values:\n",
        "    cluster_labels = KMeans(n_clusters=cluster, random_state=0).fit_predict(features)\n",
        "    silhouette_coeff = silhouette_score(features, cluster_labels)\n",
        "    print(\"cluster value\",cluster,\"silhouette \",silhouette_coeff)\n",
        "    "
      ],
      "execution_count": null,
      "outputs": [
        {
          "output_type": "stream",
          "text": [
            "cluster value 3 silhouette  0.5896659901860423\n",
            "cluster value 4 silhouette  0.6687588986985732\n",
            "cluster value 5 silhouette  0.6037586288114895\n",
            "cluster value 6 silhouette  0.5820879277117836\n",
            "cluster value 7 silhouette  0.5763364139189154\n"
          ],
          "name": "stdout"
        }
      ]
    },
    {
      "cell_type": "markdown",
      "metadata": {
        "id": "aQkVpojfR8N5"
      },
      "source": [
        "## Classification for every cluster"
      ]
    },
    {
      "cell_type": "code",
      "metadata": {
        "id": "2zd7o2PORy-m"
      },
      "source": [
        "# Random Forest classifier\n",
        "from sklearn.ensemble import RandomForestClassifier\n",
        "\n",
        "def random_forest(x_train, x_test, y_train, y_test, cluster_id):\n",
        "  clf_rfc = RandomForestClassifier(n_estimators=100,random_state=1)\n",
        "  clf_rfc.fit(x_train,y_train)\n",
        "  pred_rfc = clf_rfc.predict(x_test)\n",
        "  print(\"Cluster: \",cluster_id,\" - Random forest accuracy:\",metrics.accuracy_score(y_test, pred_rfc))"
      ],
      "execution_count": null,
      "outputs": []
    },
    {
      "cell_type": "code",
      "metadata": {
        "id": "KnbMuUIwSGj0",
        "colab": {
          "base_uri": "https://localhost:8080/",
          "height": 84
        },
        "outputId": "fa513e0f-3adf-401d-90ee-78ce6ea2b10e"
      },
      "source": [
        "# runs classifiers across all the cluster\n",
        "for cluster in range(0,4):\n",
        "  # filter dataset based on the cluster id\n",
        "  df_cluster = df.loc[df['clusterId'] == cluster]\n",
        "  # split test and train data\n",
        "  X_train, X_test, y_train, y_test = train_test_split(df_cluster[\"text\"], df_cluster[\"topic\"], test_size=0.3)\n",
        "  x_train = tfidf_fit.transform(X_train)\n",
        "  x_test = tfidf_fit.transform(X_test)\n",
        "  # call random forest classifier\n",
        "  random_forest(x_train, x_test, y_train, y_test, cluster)\n"
      ],
      "execution_count": null,
      "outputs": [
        {
          "output_type": "stream",
          "text": [
            "Cluster:  0  - Random forest accuracy: 0.8400727578004757\n",
            "Cluster:  1  - Random forest accuracy: 0.7553066037735849\n",
            "Cluster:  2  - Random forest accuracy: 0.908\n",
            "Cluster:  3  - Random forest accuracy: 0.8579136690647482\n"
          ],
          "name": "stdout"
        }
      ]
    },
    {
      "cell_type": "code",
      "metadata": {
        "id": "dPgfGGHqTMhG",
        "colab": {
          "base_uri": "https://localhost:8080/",
          "height": 84
        },
        "outputId": "ae5b9fc7-5610-4281-9476-9d1efc720089"
      },
      "source": [
        "from sklearn.svm import SVC\n",
        "\n",
        "# runs classifiers across all the cluster\n",
        "for cluster in range(0,4):\n",
        "  df_cluster = df.loc[df['clusterId'] == cluster]\n",
        "  X_train, X_test, y_train, y_test = train_test_split(df_cluster[\"text\"], df_cluster[\"topic\"], test_size=0.3)\n",
        "  x_train = tfidf_fit.transform(X_train)\n",
        "  x_test = tfidf_fit.transform(X_test)\n",
        "  \n",
        "  clf_svm = SVC(gamma='auto')\n",
        "  clf_svm.fit(x_train, y_train)\n",
        "  pred_svm = clf_svm.predict(x_test)\n",
        "  print(\"Cluster: \",cluster,\" - SVM accuracy:\",metrics.accuracy_score(y_test, pred_svm))"
      ],
      "execution_count": null,
      "outputs": [
        {
          "output_type": "stream",
          "text": [
            "Cluster:  0  - SVM accuracy: 0.21869315796837835\n",
            "Cluster:  1  - SVM accuracy: 0.13738207547169812\n",
            "Cluster:  2  - SVM accuracy: 0.5588571428571428\n",
            "Cluster:  3  - SVM accuracy: 0.306205035971223\n"
          ],
          "name": "stdout"
        }
      ]
    },
    {
      "cell_type": "code",
      "metadata": {
        "id": "ENnvfeFqcmC3",
        "colab": {
          "base_uri": "https://localhost:8080/",
          "height": 170
        },
        "outputId": "d96b8da2-ef56-4516-9cbe-dc5ee42c1d68"
      },
      "source": [
        "from sklearn.linear_model import LogisticRegression\n",
        "\n",
        "for cluster in range(0,4):\n",
        "  df_cluster = df.loc[df['clusterId'] == cluster]\n",
        "  X_train, X_test, y_train, y_test = train_test_split(df_cluster[\"text\"], df_cluster[\"topic\"], test_size=0.3)\n",
        "  x_train = tfidf_fit.transform(X_train)\n",
        "  x_test = tfidf_fit.transform(X_test)  \n",
        "  clf_lr = LogisticRegression(random_state=0).fit(x_train, y_train)\n",
        "  pred_lr = clf_lr.predict(x_test)\n",
        "  print(\"Cluster: \",cluster,\" - Logistic regression accuracy:\",metrics.accuracy_score(y_test, pred_lr))"
      ],
      "execution_count": null,
      "outputs": [
        {
          "output_type": "stream",
          "text": [
            "/usr/local/lib/python3.6/dist-packages/sklearn/linear_model/logistic.py:432: FutureWarning: Default solver will be changed to 'lbfgs' in 0.22. Specify a solver to silence this warning.\n",
            "  FutureWarning)\n",
            "/usr/local/lib/python3.6/dist-packages/sklearn/linear_model/logistic.py:469: FutureWarning: Default multi_class will be changed to 'auto' in 0.22. Specify the multi_class option to silence this warning.\n",
            "  \"this warning.\", FutureWarning)\n"
          ],
          "name": "stderr"
        },
        {
          "output_type": "stream",
          "text": [
            "Cluster:  0  - Logistic regression accuracy: 0.8153071218693158\n",
            "Cluster:  1  - Logistic regression accuracy: 0.6801297169811321\n",
            "Cluster:  2  - Logistic regression accuracy: 0.8365714285714285\n",
            "Cluster:  3  - Logistic regression accuracy: 0.8156474820143885\n"
          ],
          "name": "stdout"
        }
      ]
    },
    {
      "cell_type": "code",
      "metadata": {
        "id": "udJgm82dl3xI",
        "colab": {
          "base_uri": "https://localhost:8080/",
          "height": 84
        },
        "outputId": "bfce1707-8790-47ec-e97e-72dbcc19061d"
      },
      "source": [
        "from sklearn.naive_bayes import MultinomialNB\n",
        "\n",
        "for cluster in range(0,4):\n",
        "  df_cluster = df.loc[df['clusterId'] == cluster]\n",
        "  X_train, X_test, y_train, y_test = train_test_split(df_cluster[\"text\"], df_cluster[\"topic\"], test_size=0.3)\n",
        "  x_train = tfidf_fit.transform(X_train)\n",
        "  x_test = tfidf_fit.transform(X_test)\n",
        "  clf_mnb = MultinomialNB().fit(x_train, y_train)\n",
        "  pred_mnb = clf_mnb.predict(x_test)\n",
        "  print(\"Cluster: \",cluster,\" - Multinomial NB accuracy:\",metrics.accuracy_score(y_test, pred_mnb))"
      ],
      "execution_count": null,
      "outputs": [
        {
          "output_type": "stream",
          "text": [
            "Cluster:  0  - Multinomial NB accuracy: 0.2739611025605149\n",
            "Cluster:  1  - Multinomial NB accuracy: 0.3163325471698113\n",
            "Cluster:  2  - Multinomial NB accuracy: 0.6091428571428571\n",
            "Cluster:  3  - Multinomial NB accuracy: 0.36510791366906475\n"
          ],
          "name": "stdout"
        }
      ]
    },
    {
      "cell_type": "markdown",
      "metadata": {
        "id": "7ycGh2rTMerA"
      },
      "source": [
        "## Neural net"
      ]
    },
    {
      "cell_type": "code",
      "metadata": {
        "id": "c5mGOyp4MhBh"
      },
      "source": [
        "from keras.models import Sequential\n",
        "from keras import layers\n",
        "from keras.layers import Input, Dense\n",
        "from keras.models import Model\n",
        "import pandas as pd\n",
        "import numpy as np"
      ],
      "execution_count": null,
      "outputs": []
    },
    {
      "cell_type": "code",
      "metadata": {
        "id": "xCPRf_sfMlmC",
        "colab": {
          "base_uri": "https://localhost:8080/",
          "height": 33
        },
        "outputId": "ee6e06fa-3ba8-4451-e780-bb7fcfd321a6"
      },
      "source": [
        "# Since we need to run clustering everytime to get the clustered dataFrame, we stored it as csv and used it to run it once the session is timedout in Google Colab\n",
        "\n",
        "from google.colab import drive\n",
        "drive.mount('/content/gdrive')\n",
        "\n",
        "df = pd.read_csv('/content/gdrive/My Drive/cluster.csv')\n",
        "df = df[['text','topic','clusterId']]"
      ],
      "execution_count": null,
      "outputs": [
        {
          "output_type": "stream",
          "text": [
            "Drive already mounted at /content/gdrive; to attempt to forcibly remount, call drive.mount(\"/content/gdrive\", force_remount=True).\n"
          ],
          "name": "stdout"
        }
      ]
    },
    {
      "cell_type": "code",
      "metadata": {
        "id": "Z1v4TiNfR9qN"
      },
      "source": [
        "# autoEncodder.\n",
        "# this function takes the dataset and extracts the feature from the dataset\n",
        "def getEncodedText(X):\n",
        "  ncol = X.shape[1]\n",
        "  encoding_dim = 210\n",
        "  input_dim = Input(shape = (ncol, ))\n",
        "  encoded = Dense(encoding_dim, activation='relu')(input_dim)\n",
        "  decoded = Dense(ncol, activation='sigmoid')(encoded)\n",
        "  autoencoder = Model(input_dim, decoded)\n",
        "  encoder = Model(input_dim, encoded)\n",
        "  autoencoder.compile(optimizer='adam', loss='binary_crossentropy', metrics=['accuracy'])\n",
        "  autoencoder.summary()\n",
        "  autoencoder.fit(X, X,epochs=2,batch_size=256,shuffle=True,validation_data=(X, X))\n",
        "  encode_test = encoder.predict(X)\n",
        "  return encode_test"
      ],
      "execution_count": null,
      "outputs": []
    },
    {
      "cell_type": "code",
      "metadata": {
        "id": "Wv_qLvLyq-Si"
      },
      "source": [
        "# This function adds neural network\n",
        "def addLayers(X_train, y_train):\n",
        "  input_dim = X_train.shape[1]\n",
        "  output_dim = y_train.shape[1]\n",
        "  model = Sequential()\n",
        "  model.add(layers.Dense(1000, input_dim=input_dim, activation='relu'))\n",
        "  model.add(layers.Dense(500, activation='relu'))\n",
        "  model.add(layers.Dense(250, activation='relu'))\n",
        "  model.add(layers.Dense(output_dim, activation='sigmoid'))\n",
        "  model.compile(loss='binary_crossentropy',  optimizer='adam', metrics=['accuracy'])\n",
        "  model.summary()\n",
        "  return model"
      ],
      "execution_count": null,
      "outputs": []
    },
    {
      "cell_type": "markdown",
      "metadata": {
        "id": "NepqvH0tFIdH"
      },
      "source": [
        "##5.Deep learning\n",
        "\n",
        "After getting the features from the autoencoder, we built a deep neural net with the reduced text features and one hot encoding with the bip-topics which are the labels. The neural nets was built with input layer and four dense layers. Training the model by taking the four clusters into consideration, gave me accuracy of 88 percentage in cluster 0, by training 11306 samples. For cluster 1,cluster 2 and cluster 3 , gains an accuracy of 65 percent, 83 percent and 71 percent respectively."
      ]
    },
    {
      "cell_type": "code",
      "metadata": {
        "id": "-B98r6iCrQBb"
      },
      "source": [
        "# this function predicts the classifier output and evaluates it.\n",
        "\n",
        "from sklearn import metrics \n",
        "def fitAndPredict(model, X_train, y_train, X_test, y_test, cluster):\n",
        "  history = model.fit(X_train, y_train, epochs=2, verbose=False, validation_data=(X_test, y_test),batch_size=100)\n",
        "  y_pred = model.predict(X_test)\n",
        "  y_pred_con = np.argmax(y_pred, axis=1)\n",
        "  y_test_conv = np.argmax(y_test, axis=1)\n",
        "  print('----------------------------------------------------------------------------------')\n",
        "  print(\"Cluster: \",cluster,\"  | NN  accuracy:\",metrics.accuracy_score(y_test_conv, y_pred_con))"
      ],
      "execution_count": null,
      "outputs": []
    },
    {
      "cell_type": "code",
      "metadata": {
        "id": "SNKv0_8rqu44",
        "colab": {
          "base_uri": "https://localhost:8080/",
          "height": 1000
        },
        "outputId": "41025abc-536b-439b-d682-5d436853da80"
      },
      "source": [
        "from sklearn.model_selection import train_test_split\n",
        "from sklearn.feature_extraction.text import CountVectorizer\n",
        "from scipy import sparse\n",
        "vectorizer = CountVectorizer()\n",
        "\n",
        "for cluster in range(0,4):\n",
        "  sentences = df.loc[df['clusterId'] == cluster]['text'].values\n",
        "  y_enc = pd.get_dummies(df.loc[df['clusterId'] == cluster][\"topic\"])\n",
        "  vectorizer.fit(sentences)\n",
        "  sentences_vect = vectorizer.transform(sentences)\n",
        "  encoded_text = getEncodedText(sentences_vect)\n",
        "  X_train, X_test, y_train, y_test = train_test_split(encoded_text, y_enc.values, test_size=0.3)\n",
        "  model = addLayers(X_train, y_train)\n",
        "  fitAndPredict(model, X_train, y_train, X_test, y_test, cluster)"
      ],
      "execution_count": null,
      "outputs": [
        {
          "output_type": "stream",
          "text": [
            "Model: \"model_77\"\n",
            "_________________________________________________________________\n",
            "Layer (type)                 Output Shape              Param #   \n",
            "=================================================================\n",
            "input_48 (InputLayer)        (None, 48966)             0         \n",
            "_________________________________________________________________\n",
            "dense_207 (Dense)            (None, 210)               10283070  \n",
            "_________________________________________________________________\n",
            "dense_208 (Dense)            (None, 48966)             10331826  \n",
            "=================================================================\n",
            "Total params: 20,614,896\n",
            "Trainable params: 20,614,896\n",
            "Non-trainable params: 0\n",
            "_________________________________________________________________\n",
            "Train on 23821 samples, validate on 23821 samples\n",
            "Epoch 1/2\n",
            "23821/23821 [==============================] - 181s 8ms/step - loss: 0.1174 - acc: 0.9826 - val_loss: 0.0197 - val_acc: 0.9976\n",
            "Epoch 2/2\n",
            "23821/23821 [==============================] - 177s 7ms/step - loss: 0.0187 - acc: 0.9976 - val_loss: 0.0179 - val_acc: 0.9975\n",
            "Model: \"sequential_29\"\n",
            "_________________________________________________________________\n",
            "Layer (type)                 Output Shape              Param #   \n",
            "=================================================================\n",
            "dense_209 (Dense)            (None, 1000)              48967000  \n",
            "_________________________________________________________________\n",
            "dense_210 (Dense)            (None, 500)               500500    \n",
            "_________________________________________________________________\n",
            "dense_211 (Dense)            (None, 250)               125250    \n",
            "_________________________________________________________________\n",
            "dense_212 (Dense)            (None, 166)               41666     \n",
            "=================================================================\n",
            "Total params: 49,634,416\n",
            "Trainable params: 49,634,416\n",
            "Non-trainable params: 0\n",
            "_________________________________________________________________\n",
            "----------------------------------------------------------------------------------\n",
            "Cluster:  0   | NN  accuracy: 0.8855463830978033\n",
            "Model: \"model_79\"\n",
            "_________________________________________________________________\n",
            "Layer (type)                 Output Shape              Param #   \n",
            "=================================================================\n",
            "input_49 (InputLayer)        (None, 43499)             0         \n",
            "_________________________________________________________________\n",
            "dense_213 (Dense)            (None, 210)               9135000   \n",
            "_________________________________________________________________\n",
            "dense_214 (Dense)            (None, 43499)             9178289   \n",
            "=================================================================\n",
            "Total params: 18,313,289\n",
            "Trainable params: 18,313,289\n",
            "Non-trainable params: 0\n",
            "_________________________________________________________________\n",
            "Train on 11306 samples, validate on 11306 samples\n",
            "Epoch 1/2\n",
            "11306/11306 [==============================] - 86s 8ms/step - loss: 0.1873 - acc: 0.9699 - val_loss: 0.0308 - val_acc: 0.9963\n",
            "Epoch 2/2\n",
            "11306/11306 [==============================] - 80s 7ms/step - loss: 0.0292 - acc: 0.9963 - val_loss: 0.0280 - val_acc: 0.9965\n",
            "Model: \"sequential_30\"\n",
            "_________________________________________________________________\n",
            "Layer (type)                 Output Shape              Param #   \n",
            "=================================================================\n",
            "dense_215 (Dense)            (None, 1000)              43500000  \n",
            "_________________________________________________________________\n",
            "dense_216 (Dense)            (None, 500)               500500    \n",
            "_________________________________________________________________\n",
            "dense_217 (Dense)            (None, 250)               125250    \n",
            "_________________________________________________________________\n",
            "dense_218 (Dense)            (None, 197)               49447     \n",
            "=================================================================\n",
            "Total params: 44,175,197\n",
            "Trainable params: 44,175,197\n",
            "Non-trainable params: 0\n",
            "_________________________________________________________________\n",
            "----------------------------------------------------------------------------------\n",
            "Cluster:  1   | NN  accuracy: 0.6591981132075472\n",
            "Model: \"model_81\"\n",
            "_________________________________________________________________\n",
            "Layer (type)                 Output Shape              Param #   \n",
            "=================================================================\n",
            "input_50 (InputLayer)        (None, 14723)             0         \n",
            "_________________________________________________________________\n",
            "dense_219 (Dense)            (None, 210)               3092040   \n",
            "_________________________________________________________________\n",
            "dense_220 (Dense)            (None, 14723)             3106553   \n",
            "=================================================================\n",
            "Total params: 6,198,593\n",
            "Trainable params: 6,198,593\n",
            "Non-trainable params: 0\n",
            "_________________________________________________________________\n",
            "Train on 5833 samples, validate on 5833 samples\n",
            "Epoch 1/2\n",
            "5833/5833 [==============================] - 23s 4ms/step - loss: 0.4491 - acc: 0.9446 - val_loss: 0.1109 - val_acc: 0.9962\n",
            "Epoch 2/2\n",
            "5833/5833 [==============================] - 16s 3ms/step - loss: 0.0576 - acc: 0.9962 - val_loss: 0.0348 - val_acc: 0.9960\n",
            "Model: \"sequential_31\"\n",
            "_________________________________________________________________\n",
            "Layer (type)                 Output Shape              Param #   \n",
            "=================================================================\n",
            "dense_221 (Dense)            (None, 1000)              14724000  \n",
            "_________________________________________________________________\n",
            "dense_222 (Dense)            (None, 500)               500500    \n",
            "_________________________________________________________________\n",
            "dense_223 (Dense)            (None, 250)               125250    \n",
            "_________________________________________________________________\n",
            "dense_224 (Dense)            (None, 92)                23092     \n",
            "=================================================================\n",
            "Total params: 15,372,842\n",
            "Trainable params: 15,372,842\n",
            "Non-trainable params: 0\n",
            "_________________________________________________________________\n",
            "----------------------------------------------------------------------------------\n",
            "Cluster:  2   | NN  accuracy: 0.832\n",
            "Model: \"model_83\"\n",
            "_________________________________________________________________\n",
            "Layer (type)                 Output Shape              Param #   \n",
            "=================================================================\n",
            "input_51 (InputLayer)        (None, 15458)             0         \n",
            "_________________________________________________________________\n",
            "dense_225 (Dense)            (None, 210)               3246390   \n",
            "_________________________________________________________________\n",
            "dense_226 (Dense)            (None, 15458)             3261638   \n",
            "=================================================================\n",
            "Total params: 6,508,028\n",
            "Trainable params: 6,508,028\n",
            "Non-trainable params: 0\n",
            "_________________________________________________________________\n",
            "Train on 7411 samples, validate on 7411 samples\n",
            "Epoch 1/2\n",
            "7411/7411 [==============================] - 26s 4ms/step - loss: 0.3140 - acc: 0.9502 - val_loss: 0.0587 - val_acc: 0.9936\n",
            "Epoch 2/2\n",
            "7411/7411 [==============================] - 20s 3ms/step - loss: 0.0482 - acc: 0.9937 - val_loss: 0.0430 - val_acc: 0.9935\n",
            "Model: \"sequential_32\"\n",
            "_________________________________________________________________\n",
            "Layer (type)                 Output Shape              Param #   \n",
            "=================================================================\n",
            "dense_227 (Dense)            (None, 1000)              15459000  \n",
            "_________________________________________________________________\n",
            "dense_228 (Dense)            (None, 500)               500500    \n",
            "_________________________________________________________________\n",
            "dense_229 (Dense)            (None, 250)               125250    \n",
            "_________________________________________________________________\n",
            "dense_230 (Dense)            (None, 119)               29869     \n",
            "=================================================================\n",
            "Total params: 16,114,619\n",
            "Trainable params: 16,114,619\n",
            "Non-trainable params: 0\n",
            "_________________________________________________________________\n",
            "----------------------------------------------------------------------------------\n",
            "Cluster:  3   | NN  accuracy: 0.7122302158273381\n"
          ],
          "name": "stdout"
        }
      ]
    }
  ]
}